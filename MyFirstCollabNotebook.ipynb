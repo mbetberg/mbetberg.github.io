{
  "nbformat": 4,
  "nbformat_minor": 0,
  "metadata": {
    "colab": {
      "name": "MyFirstCollabNotebook.ipynb",
      "provenance": [],
      "authorship_tag": "ABX9TyOoFVyLMfEyk7DnIvc0D1cf",
      "include_colab_link": true
    },
    "kernelspec": {
      "name": "python3",
      "display_name": "Python 3"
    }
  },
  "cells": [
    {
      "cell_type": "markdown",
      "metadata": {
        "id": "view-in-github",
        "colab_type": "text"
      },
      "source": [
        "<a href=\"https://colab.research.google.com/github/mbetberg/mbetberg.github.io/blob/master/MyFirstCollabNotebook.ipynb\" target=\"_parent\"><img src=\"https://colab.research.google.com/assets/colab-badge.svg\" alt=\"Open In Colab\"/></a>"
      ]
    },
    {
      "cell_type": "code",
      "metadata": {
        "id": "UVUS8cQZypsV",
        "colab_type": "code",
        "colab": {
          "base_uri": "https://localhost:8080/",
          "height": 34
        },
        "outputId": "1533b0f0-c7ae-476c-c572-f4ac799dbf4c"
      },
      "source": [
        "import time\n",
        "print(time.ctime())"
      ],
      "execution_count": 1,
      "outputs": [
        {
          "output_type": "stream",
          "text": [
            "Wed Sep  2 03:13:22 2020\n"
          ],
          "name": "stdout"
        }
      ]
    },
    {
      "cell_type": "code",
      "metadata": {
        "id": "9yxHCJEHzRZn",
        "colab_type": "code",
        "colab": {
          "base_uri": "https://localhost:8080/",
          "height": 34
        },
        "outputId": "d6ca80c7-cc62-4c7e-ef3b-398e13e67d86"
      },
      "source": [
        "time.sleep(5)\n",
        "print (time.ctime())"
      ],
      "execution_count": 2,
      "outputs": [
        {
          "output_type": "stream",
          "text": [
            "Wed Sep  2 03:13:27 2020\n"
          ],
          "name": "stdout"
        }
      ]
    },
    {
      "cell_type": "markdown",
      "metadata": {
        "id": "xA23vYfP2jAP",
        "colab_type": "text"
      },
      "source": [
        "$\\sqrt{3x-1}+(1+x)^2$"
      ]
    },
    {
      "cell_type": "markdown",
      "metadata": {
        "id": "7f6hZmj22se1",
        "colab_type": "text"
      },
      "source": [
        "$e^x = \\sum_{i = 0}^\\infty \\frac{1}{i!}x^i$"
      ]
    },
    {
      "cell_type": "markdown",
      "metadata": {
        "id": "ntdUn8_-2wbg",
        "colab_type": "text"
      },
      "source": [
        "Power: $a^b$;\n",
        "Subscript: $c_d$;\n",
        "Square Root: $\\sqrt{-1}$;\n",
        "Summation: $\\sum_{x=0}^3$;\n",
        "Fraction: $\\frac{a}{b}$;\n",
        "Infinity: $-\\infty$;\n",
        "Hat: $\\hat{x}$\n",
        "Greek: $\\alpha, \\beta, \\delta, \\epsilon, \\gamma, \\theta$\n",
        "\n",
        "Matrix: $A_{m,n} =\n",
        "   \\begin{pmatrix}\n",
        "   a_{1,1} & a_{1,2} & \\cdots & a_{1,n} \\\\\n",
        "   a_{2,1} & a_{2,2} & \\cdots & a_{2,n} \\\\\n",
        "   \\vdots & \\vdots & \\ddots & \\vdots \\\\\n",
        "   a_{m,1} & a_{m,2} & \\cdots & a_{m,n}\n",
        "   \\end{pmatrix}$\n",
        "\n",
        "**Bold**, *Italic*, ~Strikethrough~;\n"
      ]
    }
  ]
}